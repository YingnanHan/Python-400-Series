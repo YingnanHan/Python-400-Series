{
  "cells": [
    {
      "cell_type": "code",
      "execution_count": 1,
      "metadata": {
        "pycharm": {
          "is_executing": false
        }
      },
      "outputs": [],
      "source": [
        "import pandas as pd"
      ]
    },
    {
      "cell_type": "code",
      "execution_count": 2,
      "metadata": {
        "pycharm": {
          "is_executing": false
        }
      },
      "outputs": [],
      "source": [
        "# how \u003d inner：党同伐异；\n",
        "# outer：求同存异；\n",
        "# right：以第二个参数即right的\u0027key1\u0027,\u0027key2\u0027为准，得到的结果包含所有的\u0027key1\u0027,\u0027key2\u0027值，\n",
        "# left：同理"
      ]
    },
    {
      "cell_type": "code",
      "execution_count": 3,
      "metadata": {
        "pycharm": {
          "is_executing": false
        }
      },
      "outputs": [
        {
          "data": {
            "text/plain": "  key   A   B\n0  k0  A0  B0\n1  k1  A1  B1\n2  k2  A2  B2\n3  k3  A3  B3",
            "text/html": "\u003cdiv\u003e\n\u003cstyle scoped\u003e\n    .dataframe tbody tr th:only-of-type {\n        vertical-align: middle;\n    }\n\n    .dataframe tbody tr th {\n        vertical-align: top;\n    }\n\n    .dataframe thead th {\n        text-align: right;\n    }\n\u003c/style\u003e\n\u003ctable border\u003d\"1\" class\u003d\"dataframe\"\u003e\n  \u003cthead\u003e\n    \u003ctr style\u003d\"text-align: right;\"\u003e\n      \u003cth\u003e\u003c/th\u003e\n      \u003cth\u003ekey\u003c/th\u003e\n      \u003cth\u003eA\u003c/th\u003e\n      \u003cth\u003eB\u003c/th\u003e\n    \u003c/tr\u003e\n  \u003c/thead\u003e\n  \u003ctbody\u003e\n    \u003ctr\u003e\n      \u003cth\u003e0\u003c/th\u003e\n      \u003ctd\u003ek0\u003c/td\u003e\n      \u003ctd\u003eA0\u003c/td\u003e\n      \u003ctd\u003eB0\u003c/td\u003e\n    \u003c/tr\u003e\n    \u003ctr\u003e\n      \u003cth\u003e1\u003c/th\u003e\n      \u003ctd\u003ek1\u003c/td\u003e\n      \u003ctd\u003eA1\u003c/td\u003e\n      \u003ctd\u003eB1\u003c/td\u003e\n    \u003c/tr\u003e\n    \u003ctr\u003e\n      \u003cth\u003e2\u003c/th\u003e\n      \u003ctd\u003ek2\u003c/td\u003e\n      \u003ctd\u003eA2\u003c/td\u003e\n      \u003ctd\u003eB2\u003c/td\u003e\n    \u003c/tr\u003e\n    \u003ctr\u003e\n      \u003cth\u003e3\u003c/th\u003e\n      \u003ctd\u003ek3\u003c/td\u003e\n      \u003ctd\u003eA3\u003c/td\u003e\n      \u003ctd\u003eB3\u003c/td\u003e\n    \u003c/tr\u003e\n  \u003c/tbody\u003e\n\u003c/table\u003e\n\u003c/div\u003e"
          },
          "metadata": {},
          "output_type": "execute_result",
          "execution_count": 3
        }
      ],
      "source": [
        "left \u003d pd.DataFrame(\n",
        "    {\n",
        "        \u0027key\u0027:[\u0027k0\u0027,\u0027k1\u0027,\u0027k2\u0027,\u0027k3\u0027],\n",
        "        \u0027A\u0027  :[\u0027A0\u0027,\u0027A1\u0027,\u0027A2\u0027,\u0027A3\u0027],\n",
        "        \u0027B\u0027  :[\u0027B0\u0027,\u0027B1\u0027,\u0027B2\u0027,\u0027B3\u0027]\n",
        "    }\n",
        ")\n",
        "left"
      ]
    },
    {
      "cell_type": "code",
      "execution_count": 4,
      "metadata": {
        "pycharm": {
          "is_executing": false
        }
      },
      "outputs": [
        {
          "data": {
            "text/plain": "  key   C   D\n0  k0  C0  D0\n1  k2  C1  D1\n2  k3  C2  D2\n3  k4  C3  D3",
            "text/html": "\u003cdiv\u003e\n\u003cstyle scoped\u003e\n    .dataframe tbody tr th:only-of-type {\n        vertical-align: middle;\n    }\n\n    .dataframe tbody tr th {\n        vertical-align: top;\n    }\n\n    .dataframe thead th {\n        text-align: right;\n    }\n\u003c/style\u003e\n\u003ctable border\u003d\"1\" class\u003d\"dataframe\"\u003e\n  \u003cthead\u003e\n    \u003ctr style\u003d\"text-align: right;\"\u003e\n      \u003cth\u003e\u003c/th\u003e\n      \u003cth\u003ekey\u003c/th\u003e\n      \u003cth\u003eC\u003c/th\u003e\n      \u003cth\u003eD\u003c/th\u003e\n    \u003c/tr\u003e\n  \u003c/thead\u003e\n  \u003ctbody\u003e\n    \u003ctr\u003e\n      \u003cth\u003e0\u003c/th\u003e\n      \u003ctd\u003ek0\u003c/td\u003e\n      \u003ctd\u003eC0\u003c/td\u003e\n      \u003ctd\u003eD0\u003c/td\u003e\n    \u003c/tr\u003e\n    \u003ctr\u003e\n      \u003cth\u003e1\u003c/th\u003e\n      \u003ctd\u003ek2\u003c/td\u003e\n      \u003ctd\u003eC1\u003c/td\u003e\n      \u003ctd\u003eD1\u003c/td\u003e\n    \u003c/tr\u003e\n    \u003ctr\u003e\n      \u003cth\u003e2\u003c/th\u003e\n      \u003ctd\u003ek3\u003c/td\u003e\n      \u003ctd\u003eC2\u003c/td\u003e\n      \u003ctd\u003eD2\u003c/td\u003e\n    \u003c/tr\u003e\n    \u003ctr\u003e\n      \u003cth\u003e3\u003c/th\u003e\n      \u003ctd\u003ek4\u003c/td\u003e\n      \u003ctd\u003eC3\u003c/td\u003e\n      \u003ctd\u003eD3\u003c/td\u003e\n    \u003c/tr\u003e\n  \u003c/tbody\u003e\n\u003c/table\u003e\n\u003c/div\u003e"
          },
          "metadata": {},
          "output_type": "execute_result",
          "execution_count": 4
        }
      ],
      "source": [
        "right \u003d pd.DataFrame(\n",
        "    {\n",
        "        \u0027key\u0027:[\u0027k0\u0027,\u0027k2\u0027,\u0027k3\u0027,\u0027k4\u0027],\n",
        "        \u0027C\u0027  :[\u0027C0\u0027,\u0027C1\u0027,\u0027C2\u0027,\u0027C3\u0027],\n",
        "        \u0027D\u0027  :[\u0027D0\u0027,\u0027D1\u0027,\u0027D2\u0027,\u0027D3\u0027]\n",
        "    }\n",
        ")\n",
        "right"
      ]
    },
    {
      "cell_type": "code",
      "execution_count": 6,
      "metadata": {
        "pycharm": {
          "is_executing": false
        }
      },
      "outputs": [
        {
          "data": {
            "text/plain": "  key   A   B   C   D\n0  k0  A0  B0  C0  D0\n1  k2  A2  B2  C1  D1\n2  k3  A3  B3  C2  D2",
            "text/html": "\u003cdiv\u003e\n\u003cstyle scoped\u003e\n    .dataframe tbody tr th:only-of-type {\n        vertical-align: middle;\n    }\n\n    .dataframe tbody tr th {\n        vertical-align: top;\n    }\n\n    .dataframe thead th {\n        text-align: right;\n    }\n\u003c/style\u003e\n\u003ctable border\u003d\"1\" class\u003d\"dataframe\"\u003e\n  \u003cthead\u003e\n    \u003ctr style\u003d\"text-align: right;\"\u003e\n      \u003cth\u003e\u003c/th\u003e\n      \u003cth\u003ekey\u003c/th\u003e\n      \u003cth\u003eA\u003c/th\u003e\n      \u003cth\u003eB\u003c/th\u003e\n      \u003cth\u003eC\u003c/th\u003e\n      \u003cth\u003eD\u003c/th\u003e\n    \u003c/tr\u003e\n  \u003c/thead\u003e\n  \u003ctbody\u003e\n    \u003ctr\u003e\n      \u003cth\u003e0\u003c/th\u003e\n      \u003ctd\u003ek0\u003c/td\u003e\n      \u003ctd\u003eA0\u003c/td\u003e\n      \u003ctd\u003eB0\u003c/td\u003e\n      \u003ctd\u003eC0\u003c/td\u003e\n      \u003ctd\u003eD0\u003c/td\u003e\n    \u003c/tr\u003e\n    \u003ctr\u003e\n      \u003cth\u003e1\u003c/th\u003e\n      \u003ctd\u003ek2\u003c/td\u003e\n      \u003ctd\u003eA2\u003c/td\u003e\n      \u003ctd\u003eB2\u003c/td\u003e\n      \u003ctd\u003eC1\u003c/td\u003e\n      \u003ctd\u003eD1\u003c/td\u003e\n    \u003c/tr\u003e\n    \u003ctr\u003e\n      \u003cth\u003e2\u003c/th\u003e\n      \u003ctd\u003ek3\u003c/td\u003e\n      \u003ctd\u003eA3\u003c/td\u003e\n      \u003ctd\u003eB3\u003c/td\u003e\n      \u003ctd\u003eC2\u003c/td\u003e\n      \u003ctd\u003eD2\u003c/td\u003e\n    \u003c/tr\u003e\n  \u003c/tbody\u003e\n\u003c/table\u003e\n\u003c/div\u003e"
          },
          "metadata": {},
          "output_type": "execute_result",
          "execution_count": 6
        }
      ],
      "source": [
        "pd.merge(left,right,how\u003d\u0027inner\u0027,on\u003d\u0027key\u0027) "
      ]
    },
    {
      "cell_type": "code",
      "execution_count": 11,
      "metadata": {
        "pycharm": {}
      },
      "outputs": [
        {
          "data": {
            "text/html": [
              "\u003cdiv\u003e\n",
              "\u003cstyle scoped\u003e\n",
              "    .dataframe tbody tr th:only-of-type {\n",
              "        vertical-align: middle;\n",
              "    }\n",
              "\n",
              "    .dataframe tbody tr th {\n",
              "        vertical-align: top;\n",
              "    }\n",
              "\n",
              "    .dataframe thead th {\n",
              "        text-align: right;\n",
              "    }\n",
              "\u003c/style\u003e\n",
              "\u003ctable border\u003d\"1\" class\u003d\"dataframe\"\u003e\n",
              "  \u003cthead\u003e\n",
              "    \u003ctr style\u003d\"text-align: right;\"\u003e\n",
              "      \u003cth\u003e\u003c/th\u003e\n",
              "      \u003cth\u003ekey\u003c/th\u003e\n",
              "      \u003cth\u003eA\u003c/th\u003e\n",
              "      \u003cth\u003eB\u003c/th\u003e\n",
              "      \u003cth\u003eC\u003c/th\u003e\n",
              "      \u003cth\u003eD\u003c/th\u003e\n",
              "    \u003c/tr\u003e\n",
              "  \u003c/thead\u003e\n",
              "  \u003ctbody\u003e\n",
              "    \u003ctr\u003e\n",
              "      \u003cth\u003e0\u003c/th\u003e\n",
              "      \u003ctd\u003ek0\u003c/td\u003e\n",
              "      \u003ctd\u003eA0\u003c/td\u003e\n",
              "      \u003ctd\u003eB0\u003c/td\u003e\n",
              "      \u003ctd\u003eC0\u003c/td\u003e\n",
              "      \u003ctd\u003eD0\u003c/td\u003e\n",
              "    \u003c/tr\u003e\n",
              "    \u003ctr\u003e\n",
              "      \u003cth\u003e1\u003c/th\u003e\n",
              "      \u003ctd\u003ek1\u003c/td\u003e\n",
              "      \u003ctd\u003eA1\u003c/td\u003e\n",
              "      \u003ctd\u003eB1\u003c/td\u003e\n",
              "      \u003ctd\u003eNaN\u003c/td\u003e\n",
              "      \u003ctd\u003eNaN\u003c/td\u003e\n",
              "    \u003c/tr\u003e\n",
              "    \u003ctr\u003e\n",
              "      \u003cth\u003e2\u003c/th\u003e\n",
              "      \u003ctd\u003ek2\u003c/td\u003e\n",
              "      \u003ctd\u003eA2\u003c/td\u003e\n",
              "      \u003ctd\u003eB2\u003c/td\u003e\n",
              "      \u003ctd\u003eC1\u003c/td\u003e\n",
              "      \u003ctd\u003eD1\u003c/td\u003e\n",
              "    \u003c/tr\u003e\n",
              "    \u003ctr\u003e\n",
              "      \u003cth\u003e3\u003c/th\u003e\n",
              "      \u003ctd\u003ek3\u003c/td\u003e\n",
              "      \u003ctd\u003eA3\u003c/td\u003e\n",
              "      \u003ctd\u003eB3\u003c/td\u003e\n",
              "      \u003ctd\u003eC2\u003c/td\u003e\n",
              "      \u003ctd\u003eD2\u003c/td\u003e\n",
              "    \u003c/tr\u003e\n",
              "    \u003ctr\u003e\n",
              "      \u003cth\u003e4\u003c/th\u003e\n",
              "      \u003ctd\u003ek4\u003c/td\u003e\n",
              "      \u003ctd\u003eNaN\u003c/td\u003e\n",
              "      \u003ctd\u003eNaN\u003c/td\u003e\n",
              "      \u003ctd\u003eC3\u003c/td\u003e\n",
              "      \u003ctd\u003eD3\u003c/td\u003e\n",
              "    \u003c/tr\u003e\n",
              "  \u003c/tbody\u003e\n",
              "\u003c/table\u003e\n",
              "\u003c/div\u003e"
            ],
            "text/plain": [
              "  key    A    B    C    D\n",
              "0  k0   A0   B0   C0   D0\n",
              "1  k1   A1   B1  NaN  NaN\n",
              "2  k2   A2   B2   C1   D1\n",
              "3  k3   A3   B3   C2   D2\n",
              "4  k4  NaN  NaN   C3   D3"
            ]
          },
          "execution_count": 11,
          "metadata": {},
          "output_type": "execute_result"
        }
      ],
      "source": [
        "pd.merge(left,right,how\u003d\u0027outer\u0027,on\u003d\u0027key\u0027)"
      ]
    },
    {
      "cell_type": "code",
      "execution_count": 14,
      "metadata": {
        "pycharm": {}
      },
      "outputs": [
        {
          "data": {
            "text/html": [
              "\u003cdiv\u003e\n",
              "\u003cstyle scoped\u003e\n",
              "    .dataframe tbody tr th:only-of-type {\n",
              "        vertical-align: middle;\n",
              "    }\n",
              "\n",
              "    .dataframe tbody tr th {\n",
              "        vertical-align: top;\n",
              "    }\n",
              "\n",
              "    .dataframe thead th {\n",
              "        text-align: right;\n",
              "    }\n",
              "\u003c/style\u003e\n",
              "\u003ctable border\u003d\"1\" class\u003d\"dataframe\"\u003e\n",
              "  \u003cthead\u003e\n",
              "    \u003ctr style\u003d\"text-align: right;\"\u003e\n",
              "      \u003cth\u003e\u003c/th\u003e\n",
              "      \u003cth\u003ekey\u003c/th\u003e\n",
              "      \u003cth\u003eA\u003c/th\u003e\n",
              "      \u003cth\u003eB\u003c/th\u003e\n",
              "      \u003cth\u003eC\u003c/th\u003e\n",
              "      \u003cth\u003eD\u003c/th\u003e\n",
              "    \u003c/tr\u003e\n",
              "  \u003c/thead\u003e\n",
              "  \u003ctbody\u003e\n",
              "    \u003ctr\u003e\n",
              "      \u003cth\u003e0\u003c/th\u003e\n",
              "      \u003ctd\u003ek0\u003c/td\u003e\n",
              "      \u003ctd\u003eA0\u003c/td\u003e\n",
              "      \u003ctd\u003eB0\u003c/td\u003e\n",
              "      \u003ctd\u003eC0\u003c/td\u003e\n",
              "      \u003ctd\u003eD0\u003c/td\u003e\n",
              "    \u003c/tr\u003e\n",
              "    \u003ctr\u003e\n",
              "      \u003cth\u003e1\u003c/th\u003e\n",
              "      \u003ctd\u003ek1\u003c/td\u003e\n",
              "      \u003ctd\u003eA1\u003c/td\u003e\n",
              "      \u003ctd\u003eB1\u003c/td\u003e\n",
              "      \u003ctd\u003eNaN\u003c/td\u003e\n",
              "      \u003ctd\u003eNaN\u003c/td\u003e\n",
              "    \u003c/tr\u003e\n",
              "    \u003ctr\u003e\n",
              "      \u003cth\u003e2\u003c/th\u003e\n",
              "      \u003ctd\u003ek2\u003c/td\u003e\n",
              "      \u003ctd\u003eA2\u003c/td\u003e\n",
              "      \u003ctd\u003eB2\u003c/td\u003e\n",
              "      \u003ctd\u003eC1\u003c/td\u003e\n",
              "      \u003ctd\u003eD1\u003c/td\u003e\n",
              "    \u003c/tr\u003e\n",
              "    \u003ctr\u003e\n",
              "      \u003cth\u003e3\u003c/th\u003e\n",
              "      \u003ctd\u003ek3\u003c/td\u003e\n",
              "      \u003ctd\u003eA3\u003c/td\u003e\n",
              "      \u003ctd\u003eB3\u003c/td\u003e\n",
              "      \u003ctd\u003eC2\u003c/td\u003e\n",
              "      \u003ctd\u003eD2\u003c/td\u003e\n",
              "    \u003c/tr\u003e\n",
              "  \u003c/tbody\u003e\n",
              "\u003c/table\u003e\n",
              "\u003c/div\u003e"
            ],
            "text/plain": [
              "  key   A   B    C    D\n",
              "0  k0  A0  B0   C0   D0\n",
              "1  k1  A1  B1  NaN  NaN\n",
              "2  k2  A2  B2   C1   D1\n",
              "3  k3  A3  B3   C2   D2"
            ]
          },
          "execution_count": 14,
          "metadata": {},
          "output_type": "execute_result"
        }
      ],
      "source": [
        "pd.merge(left,right,how\u003d\u0027left\u0027,on\u003d\u0027key\u0027)#左边DF对象的行全部显示"
      ]
    },
    {
      "cell_type": "code",
      "execution_count": 15,
      "metadata": {
        "pycharm": {}
      },
      "outputs": [
        {
          "data": {
            "text/html": [
              "\u003cdiv\u003e\n",
              "\u003cstyle scoped\u003e\n",
              "    .dataframe tbody tr th:only-of-type {\n",
              "        vertical-align: middle;\n",
              "    }\n",
              "\n",
              "    .dataframe tbody tr th {\n",
              "        vertical-align: top;\n",
              "    }\n",
              "\n",
              "    .dataframe thead th {\n",
              "        text-align: right;\n",
              "    }\n",
              "\u003c/style\u003e\n",
              "\u003ctable border\u003d\"1\" class\u003d\"dataframe\"\u003e\n",
              "  \u003cthead\u003e\n",
              "    \u003ctr style\u003d\"text-align: right;\"\u003e\n",
              "      \u003cth\u003e\u003c/th\u003e\n",
              "      \u003cth\u003ekey\u003c/th\u003e\n",
              "      \u003cth\u003eA\u003c/th\u003e\n",
              "      \u003cth\u003eB\u003c/th\u003e\n",
              "      \u003cth\u003eC\u003c/th\u003e\n",
              "      \u003cth\u003eD\u003c/th\u003e\n",
              "    \u003c/tr\u003e\n",
              "  \u003c/thead\u003e\n",
              "  \u003ctbody\u003e\n",
              "    \u003ctr\u003e\n",
              "      \u003cth\u003e0\u003c/th\u003e\n",
              "      \u003ctd\u003ek0\u003c/td\u003e\n",
              "      \u003ctd\u003eA0\u003c/td\u003e\n",
              "      \u003ctd\u003eB0\u003c/td\u003e\n",
              "      \u003ctd\u003eC0\u003c/td\u003e\n",
              "      \u003ctd\u003eD0\u003c/td\u003e\n",
              "    \u003c/tr\u003e\n",
              "    \u003ctr\u003e\n",
              "      \u003cth\u003e1\u003c/th\u003e\n",
              "      \u003ctd\u003ek2\u003c/td\u003e\n",
              "      \u003ctd\u003eA2\u003c/td\u003e\n",
              "      \u003ctd\u003eB2\u003c/td\u003e\n",
              "      \u003ctd\u003eC1\u003c/td\u003e\n",
              "      \u003ctd\u003eD1\u003c/td\u003e\n",
              "    \u003c/tr\u003e\n",
              "    \u003ctr\u003e\n",
              "      \u003cth\u003e2\u003c/th\u003e\n",
              "      \u003ctd\u003ek3\u003c/td\u003e\n",
              "      \u003ctd\u003eA3\u003c/td\u003e\n",
              "      \u003ctd\u003eB3\u003c/td\u003e\n",
              "      \u003ctd\u003eC2\u003c/td\u003e\n",
              "      \u003ctd\u003eD2\u003c/td\u003e\n",
              "    \u003c/tr\u003e\n",
              "    \u003ctr\u003e\n",
              "      \u003cth\u003e3\u003c/th\u003e\n",
              "      \u003ctd\u003ek4\u003c/td\u003e\n",
              "      \u003ctd\u003eNaN\u003c/td\u003e\n",
              "      \u003ctd\u003eNaN\u003c/td\u003e\n",
              "      \u003ctd\u003eC3\u003c/td\u003e\n",
              "      \u003ctd\u003eD3\u003c/td\u003e\n",
              "    \u003c/tr\u003e\n",
              "  \u003c/tbody\u003e\n",
              "\u003c/table\u003e\n",
              "\u003c/div\u003e"
            ],
            "text/plain": [
              "  key    A    B   C   D\n",
              "0  k0   A0   B0  C0  D0\n",
              "1  k2   A2   B2  C1  D1\n",
              "2  k3   A3   B3  C2  D2\n",
              "3  k4  NaN  NaN  C3  D3"
            ]
          },
          "execution_count": 15,
          "metadata": {},
          "output_type": "execute_result"
        }
      ],
      "source": [
        "pd.merge(left,right,how\u003d\u0027right\u0027,on\u003d\u0027key\u0027)#右边DF对象的行全部显示"
      ]
    },
    {
      "cell_type": "code",
      "execution_count": 18,
      "metadata": {
        "pycharm": {}
      },
      "outputs": [
        {
          "data": {
            "text/html": [
              "\u003cdiv\u003e\n",
              "\u003cstyle scoped\u003e\n",
              "    .dataframe tbody tr th:only-of-type {\n",
              "        vertical-align: middle;\n",
              "    }\n",
              "\n",
              "    .dataframe tbody tr th {\n",
              "        vertical-align: top;\n",
              "    }\n",
              "\n",
              "    .dataframe thead th {\n",
              "        text-align: right;\n",
              "    }\n",
              "\u003c/style\u003e\n",
              "\u003ctable border\u003d\"1\" class\u003d\"dataframe\"\u003e\n",
              "  \u003cthead\u003e\n",
              "    \u003ctr style\u003d\"text-align: right;\"\u003e\n",
              "      \u003cth\u003e\u003c/th\u003e\n",
              "      \u003cth\u003ekey\u003c/th\u003e\n",
              "      \u003cth\u003eA\u003c/th\u003e\n",
              "      \u003cth\u003eB\u003c/th\u003e\n",
              "      \u003cth\u003eC\u003c/th\u003e\n",
              "      \u003cth\u003eD\u003c/th\u003e\n",
              "    \u003c/tr\u003e\n",
              "  \u003c/thead\u003e\n",
              "  \u003ctbody\u003e\n",
              "    \u003ctr\u003e\n",
              "      \u003cth\u003e0\u003c/th\u003e\n",
              "      \u003ctd\u003ek0\u003c/td\u003e\n",
              "      \u003ctd\u003eA0\u003c/td\u003e\n",
              "      \u003ctd\u003eB0\u003c/td\u003e\n",
              "      \u003ctd\u003eC0\u003c/td\u003e\n",
              "      \u003ctd\u003eD0\u003c/td\u003e\n",
              "    \u003c/tr\u003e\n",
              "    \u003ctr\u003e\n",
              "      \u003cth\u003e1\u003c/th\u003e\n",
              "      \u003ctd\u003ek1\u003c/td\u003e\n",
              "      \u003ctd\u003eA1\u003c/td\u003e\n",
              "      \u003ctd\u003eB1\u003c/td\u003e\n",
              "      \u003ctd\u003eNaN\u003c/td\u003e\n",
              "      \u003ctd\u003eNaN\u003c/td\u003e\n",
              "    \u003c/tr\u003e\n",
              "    \u003ctr\u003e\n",
              "      \u003cth\u003e2\u003c/th\u003e\n",
              "      \u003ctd\u003ek2\u003c/td\u003e\n",
              "      \u003ctd\u003eA2\u003c/td\u003e\n",
              "      \u003ctd\u003eB2\u003c/td\u003e\n",
              "      \u003ctd\u003eC1\u003c/td\u003e\n",
              "      \u003ctd\u003eD1\u003c/td\u003e\n",
              "    \u003c/tr\u003e\n",
              "    \u003ctr\u003e\n",
              "      \u003cth\u003e3\u003c/th\u003e\n",
              "      \u003ctd\u003ek3\u003c/td\u003e\n",
              "      \u003ctd\u003eA3\u003c/td\u003e\n",
              "      \u003ctd\u003eB3\u003c/td\u003e\n",
              "      \u003ctd\u003eC2\u003c/td\u003e\n",
              "      \u003ctd\u003eD2\u003c/td\u003e\n",
              "    \u003c/tr\u003e\n",
              "    \u003ctr\u003e\n",
              "      \u003cth\u003e4\u003c/th\u003e\n",
              "      \u003ctd\u003ek4\u003c/td\u003e\n",
              "      \u003ctd\u003eNaN\u003c/td\u003e\n",
              "      \u003ctd\u003eNaN\u003c/td\u003e\n",
              "      \u003ctd\u003eC3\u003c/td\u003e\n",
              "      \u003ctd\u003eD3\u003c/td\u003e\n",
              "    \u003c/tr\u003e\n",
              "  \u003c/tbody\u003e\n",
              "\u003c/table\u003e\n",
              "\u003c/div\u003e"
            ],
            "text/plain": [
              "  key    A    B    C    D\n",
              "0  k0   A0   B0   C0   D0\n",
              "1  k1   A1   B1  NaN  NaN\n",
              "2  k2   A2   B2   C1   D1\n",
              "3  k3   A3   B3   C2   D2\n",
              "4  k4  NaN  NaN   C3   D3"
            ]
          },
          "execution_count": 18,
          "metadata": {},
          "output_type": "execute_result"
        }
      ],
      "source": [
        "#全外连接\n",
        "pd.merge(left,right,how\u003d\"outer\",on\u003d\u0027key\u0027)"
      ]
    },
    {
      "cell_type": "code",
      "execution_count": null,
      "metadata": {
        "pycharm": {}
      },
      "outputs": [],
      "source": []
    }
  ],
  "metadata": {
    "kernelspec": {
      "display_name": "Python 3",
      "language": "python",
      "name": "python3"
    },
    "language_info": {
      "codemirror_mode": {
        "name": "ipython",
        "version": 3
      },
      "file_extension": ".py",
      "mimetype": "text/x-python",
      "name": "python",
      "nbconvert_exporter": "python",
      "pygments_lexer": "ipython3",
      "version": "3.8.5"
    }
  },
  "nbformat": 4,
  "nbformat_minor": 4
}